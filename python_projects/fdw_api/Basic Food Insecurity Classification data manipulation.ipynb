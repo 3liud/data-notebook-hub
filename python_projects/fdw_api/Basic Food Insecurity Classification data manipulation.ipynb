{
 "cells": [
  {
   "cell_type": "code",
   "execution_count": null,
   "id": "8ae1d10e-0fd7-4796-8274-5de7ef843a09",
   "metadata": {},
   "outputs": [],
   "source": [
    "import pandas as pd\n",
    "import geopandas as gpd\n",
    "\n",
    "import plotly.graph_objects as go\n",
    "import plotly.express as px\n",
    "import plotly.offline as pyo\n",
    "\n",
    "# Set notebook mode to work in offline\n",
    "pyo.init_notebook_mode()"
   ]
  },
  {
   "cell_type": "markdown",
   "id": "e3c9f796-f421-47a7-837b-c32083afc308",
   "metadata": {},
   "source": [
    "### Goal - get and visualize available all Food Insecurity Classification data for South Sudan"
   ]
  },
  {
   "cell_type": "markdown",
   "id": "f310479f-31ec-4084-b095-ccaa3e495947",
   "metadata": {},
   "source": [
    "### Step 1: Food Insecurity Data Point Extraction"
   ]
  },
  {
   "cell_type": "code",
   "execution_count": null,
   "id": "62d6a217-bd72-406f-9bf1-8cc4bc4d98b5",
   "metadata": {},
   "outputs": [],
   "source": [
    "# Paste URL from https://fdw.fews.net/data-explorer/ipcFic?geographic_unit=SS\n",
    "# NOTE `&fields=simple` parameter need to be removed to allow fnid field to be available\n",
    "\n",
    "food_security_url = \"https://fdw.fews.net/api/ipcphase/?format=json&country_code=SS&preference=best\"\n",
    "fic_dataframe = pd.read_json(food_security_url)\n",
    "fic_dataframe.head()"
   ]
  },
  {
   "cell_type": "code",
   "execution_count": null,
   "id": "e718fb33-fc5b-4942-9a2b-9e8020b9a3f9",
   "metadata": {},
   "outputs": [],
   "source": [
    "fic_dataframe.info()"
   ]
  },
  {
   "cell_type": "markdown",
   "id": "e59291ee-d75e-4d4a-99f6-f28be9bd9f08",
   "metadata": {},
   "source": [
    "### Step 2: Spatial Data Extraction "
   ]
  },
  {
   "cell_type": "code",
   "execution_count": null,
   "id": "66bce9ee-5274-4c58-a9f2-688846f3b477",
   "metadata": {},
   "outputs": [],
   "source": [
    "# Paste URL from https://fdw.fews.net/data-explorer/spatial?country_code=SS&unit_type=fsc_admin%2Cfsc_admin_lhz%2Cfsc_lhz%2Cfsc_rm_admin\n",
    "spatial_url = \"https://fdw.fews.net/api/feature/?format=geojson&country_code=SS&unit_type=fsc_admin&unit_type=fsc_admin_lhz&unit_type=fsc_lhz&unit_type=fsc_rm_admin\"\n",
    "\n",
    "spatial_dataframe = gpd.read_file(spatial_url)\n",
    "spatial_dataframe.head()"
   ]
  },
  {
   "cell_type": "code",
   "execution_count": null,
   "id": "449780c4-9af8-4e7f-bb7f-e7ff0c8e080f",
   "metadata": {},
   "outputs": [],
   "source": [
    "spatial_dataframe.info()"
   ]
  },
  {
   "cell_type": "markdown",
   "id": "0ea5a744-4496-47ae-ad74-fb4255d21460",
   "metadata": {},
   "source": [
    "### Step 3: Merge Both DataFrames"
   ]
  },
  {
   "cell_type": "code",
   "execution_count": null,
   "id": "f9c7ea64-2678-405c-add9-9efc58c53e16",
   "metadata": {},
   "outputs": [],
   "source": [
    "dataframe = spatial_dataframe[['fnid', 'unit_type', 'full_name', 'geometry']].merge(\n",
    "    fic_dataframe, on='fnid', how='right'\n",
    ")\n",
    "# Remove not collected values\n",
    "dataframe = dataframe[~dataframe['value'].isnull()].reset_index(drop=True)\n",
    "dataframe.info()"
   ]
  },
  {
   "cell_type": "markdown",
   "id": "e750a85d-c672-415d-9458-b9d1c89a5632",
   "metadata": {},
   "source": [
    "### Step 4: Create a Map"
   ]
  },
  {
   "cell_type": "code",
   "execution_count": null,
   "id": "6a4d8f09-a0f4-4e62-adbc-ef24eb7242d2",
   "metadata": {},
   "outputs": [],
   "source": [
    "# Define necessary variables\n",
    "unique_collection_dates = dataframe['reporting_date'].unique()\n",
    "unique_collection_dates.sort()\n",
    "recent_collection_date = unique_collection_dates[-1]\n",
    "recent_dataframe = dataframe[dataframe['reporting_date'] == recent_collection_date]\n",
    "bounds = dataframe.total_bounds\n",
    "country_name = dataframe['country'].unique()\n",
    "country_name = country_name[0] if len(country_name) == 1 else \"various countries\"\n",
    "\n",
    "colorscheme = [\n",
    "    [0, \"#CDFACD\"], \n",
    "    [0.25, \"#FAE61E\"], \n",
    "    [0.5, \"#E67800\"], \n",
    "    [0.75, \"#C80000\"], \n",
    "    [1, \"#640000\"]\n",
    "]\n"
   ]
  },
  {
   "cell_type": "code",
   "execution_count": null,
   "id": "5f6fa292-f182-4cee-a4ae-654ee7eabcb8",
   "metadata": {},
   "outputs": [],
   "source": [
    "# Build a frame for each available collection date\n",
    "frames = []\n",
    "\n",
    "for collection_date in unique_collection_dates:\n",
    "    # Filter the dataframe for the current date\n",
    "    single_collection_dataframe = dataframe[dataframe['reporting_date'] == collection_date]\n",
    "\n",
    "    # Create a frame for this date\n",
    "    frames.append(\n",
    "        go.Frame(\n",
    "            data=[\n",
    "                go.Choropleth(\n",
    "                    name=str(collection_date),\n",
    "                    ids=single_collection_dataframe['fnid'],\n",
    "                    z=single_collection_dataframe['value'],\n",
    "                    geojson=single_collection_dataframe.__geo_interface__,\n",
    "                    locations=single_collection_dataframe.index,\n",
    "                    colorscale=colorscheme,\n",
    "                    colorbar=dict(\n",
    "                        dtick=1, \n",
    "                        title=dict(text=\"IPC Phase\")\n",
    "                    ),\n",
    "                    zmin=1,\n",
    "                    zmax=5,\n",
    "                    hovertemplate=\"<br>\".join([\n",
    "                        \"%{customdata[0]}\",\n",
    "                        \"IPC Phase %{customdata[1]}<extra></extra>\"\n",
    "                    ]),\n",
    "                    customdata=single_collection_dataframe[[\"geographic_unit_full_name\", 'value']].values\n",
    "                )\n",
    "            ],\n",
    "            name=str(collection_date),\n",
    "        )\n",
    "    )"
   ]
  },
  {
   "cell_type": "code",
   "execution_count": null,
   "id": "e5fd9b0a-0ba4-4de2-bb18-23faaae1df7b",
   "metadata": {},
   "outputs": [],
   "source": [
    "# Build a map figure with time slider\n",
    "fig = go.Figure(frames=frames)   \n",
    "\n",
    "# Add time slider and buttons\n",
    "fig.update_layout(\n",
    "    margin={\"t\": 35, \"b\": 5, \"l\": 10, \"r\": 10},\n",
    "    title_text=f\"Acute Food Insecurity Phases in {country_name}\",\n",
    "    title_y=0.98,\n",
    "    title_x=0.01,\n",
    "    sliders=[\n",
    "        dict(\n",
    "            steps=[\n",
    "                dict(\n",
    "                    method=\"animate\",\n",
    "                    args=[\n",
    "                        [str(collection_date)],\n",
    "                        dict(frame=dict(duration=500, redraw=True), mode=\"immediate\"),\n",
    "                    ],\n",
    "                    label=str(collection_date),\n",
    "                )\n",
    "                for collection_date in unique_collection_dates\n",
    "            ],\n",
    "            active=len(unique_collection_dates)-1,\n",
    "            x=0.1,\n",
    "            xanchor=\"left\",\n",
    "            y=0,\n",
    "            yanchor=\"top\",\n",
    "        )\n",
    "    ],\n",
    "    updatemenus=[\n",
    "        dict(\n",
    "            type=\"buttons\",\n",
    "            showactive=True,\n",
    "            x=0.1,\n",
    "            y=0,\n",
    "            xanchor=\"right\",\n",
    "            yanchor=\"top\",\n",
    "            buttons=[\n",
    "                dict(\n",
    "                    label=\"Play\",\n",
    "                    method=\"animate\",\n",
    "                    args=[\n",
    "                        None,\n",
    "                        dict(frame=dict(duration=1000, redraw=True), fromcurrent=True),\n",
    "                    ],\n",
    "                ),\n",
    "                dict(label=\"Pause\", method=\"animate\", args=[[None], dict(mode=\"immediate\")]),\n",
    "            ],\n",
    "        )\n",
    "    ],\n",
    ")\n",
    "\n",
    "# Ensure the map zoomed to the data\n",
    "fig.update_geos(\n",
    "    visible=False,\n",
    "    resolution=110,\n",
    "    showcountries=True,\n",
    "    countrycolor=\"#212721\",\n",
    "    showsubunits=True,\n",
    "    showcoastlines=True,\n",
    "    projection_type=\"mercator\",\n",
    "    fitbounds=\"locations\",\n",
    "    center={\"lat\": (bounds[1] + bounds[3]) / 2, \"lon\": (bounds[0] + bounds[2]) / 2},\n",
    "    lonaxis_range=[bounds[0], bounds[2]],\n",
    "    lataxis_range=[bounds[1], bounds[3]]\n",
    ")\n",
    "\n",
    "# Add initial trace\n",
    "fig.add_trace(go.Choropleth(\n",
    "    name=str(recent_collection_date),\n",
    "    ids=recent_dataframe['fnid'],\n",
    "    z=recent_dataframe['value'],\n",
    "    geojson=recent_dataframe.__geo_interface__,\n",
    "    locations=recent_dataframe.index,\n",
    "    colorscale=colorscheme,\n",
    "    colorbar=dict(\n",
    "        dtick=1, \n",
    "        title=dict(text=\"IPC Phase\")\n",
    "    ),\n",
    "    zmin=1,\n",
    "    zmax=5,\n",
    "    hovertemplate=\"<br>\".join([\n",
    "        \"%{customdata[0]}\",\n",
    "        \"IPC Phase %{customdata[1]}<extra></extra>\"\n",
    "    ]),\n",
    "    customdata=recent_dataframe[[\"geographic_unit_full_name\", 'value']].values\n",
    "))"
   ]
  },
  {
   "cell_type": "code",
   "execution_count": null,
   "id": "1c83d89b-83f5-45f7-956b-fa54213f9968",
   "metadata": {},
   "outputs": [],
   "source": []
  }
 ],
 "metadata": {
  "kernelspec": {
   "display_name": "Python 3 (ipykernel)",
   "language": "python",
   "name": "python3"
  },
  "language_info": {
   "codemirror_mode": {
    "name": "ipython",
    "version": 3
   },
   "file_extension": ".py",
   "mimetype": "text/x-python",
   "name": "python",
   "nbconvert_exporter": "python",
   "pygments_lexer": "ipython3",
   "version": "3.12.4"
  }
 },
 "nbformat": 4,
 "nbformat_minor": 5
}
