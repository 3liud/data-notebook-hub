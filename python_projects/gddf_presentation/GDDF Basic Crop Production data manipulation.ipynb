{
 "cells": [
  {
   "cell_type": "code",
   "execution_count": null,
   "id": "0a66d988",
   "metadata": {},
   "outputs": [],
   "source": [
    "import pandas as pd\n",
    "import geopandas as gpd\n",
    "\n",
    "import plotly.graph_objects as go\n",
    "import plotly.express as px\n",
    "import plotly.offline as pyo\n",
    "\n",
    "# Set notebook mode to work in offline\n",
    "pyo.init_notebook_mode()"
   ]
  },
  {
   "cell_type": "code",
   "execution_count": null,
   "id": "2420e54b",
   "metadata": {},
   "outputs": [],
   "source": [
    "# Utility function that creates Plotly choropleth map from geodataframe\n",
    "def build_plotly_map(dataframe: gpd.GeoDataFrame, unit_name_column: str) -> go.Figure:\n",
    "    # Extract the bounding box of the geometries\n",
    "    bounds = dataframe.total_bounds\n",
    "\n",
    "    # Create the Plotly figure\n",
    "    fig = px.choropleth(dataframe,\n",
    "                        geojson=dataframe.geometry,\n",
    "                        locations=dataframe.index,\n",
    "                        color='value',\n",
    "                        color_continuous_scale='Viridis'\n",
    "                       )\n",
    "\n",
    "    fig.update_traces(\n",
    "        hovertemplate=\"<br>\".join([\n",
    "            \"Geographic unit<br><b>%{customdata[0]}</b>\",\n",
    "            \"Value<br><b>%{customdata[1]}</b>\"\n",
    "        ]),\n",
    "        customdata=dataframe[[unit_name_column, 'value']].values\n",
    "    )\n",
    "\n",
    "    # Update the layout to zoom to the bounding box\n",
    "    fig.update_geos(\n",
    "        visible=False,\n",
    "        resolution=110,\n",
    "        showcountries=True,\n",
    "        countrycolor=\"#212721\",\n",
    "        showsubunits=True,\n",
    "        showcoastlines=True,\n",
    "        projection_type=\"mercator\",\n",
    "        fitbounds=\"locations\",\n",
    "        center={\"lat\": (bounds[1] + bounds[3]) / 2, \"lon\": (bounds[0] + bounds[2]) / 2},\n",
    "        lonaxis_range=[bounds[0], bounds[2]],\n",
    "        lataxis_range=[bounds[1], bounds[3]]\n",
    "    )\n",
    "    return fig\n"
   ]
  },
  {
   "cell_type": "code",
   "execution_count": null,
   "id": "fcba0e86",
   "metadata": {},
   "outputs": [],
   "source": [
    "# Get Crop data points and convert into the dataframe\n",
    "\n",
    "# Paste URL from https://fdw.fews.net/data-explorer/crop\n",
    "crop_url = \"https://fdw.fews.net/api/cropproductionfacts/?format=json&has_datapoints=true&cpcv2=R01592AA&indicator=crop:quantity&country_code=NE&fields=simple\"\n",
    "\n",
    "crop_dataframe = pd.read_json(crop_url)\n",
    "crop_dataframe.head()\n"
   ]
  },
  {
   "cell_type": "code",
   "execution_count": null,
   "id": "7856246e",
   "metadata": {},
   "outputs": [],
   "source": [
    "crop_dataframe.info()"
   ]
  },
  {
   "cell_type": "code",
   "execution_count": null,
   "id": "d94cc2f1",
   "metadata": {},
   "outputs": [],
   "source": [
    "# Get spatial boundaries and convert into the geodataframe\n",
    "\n",
    "# Paste URL from https://fdw.fews.net/data-explorer/spatial\n",
    "spatial_url = \"https://fdw.fews.net/api/feature/?format=geojson&unit_set_version=244&unit_set_version=268&unit_set_version=8&unit_set_version=290&unit_set_version=813\"\n",
    "\n",
    "spatial_dataframe = gpd.read_file(spatial_url)\n",
    "spatial_dataframe.head()\n"
   ]
  },
  {
   "cell_type": "code",
   "execution_count": null,
   "id": "70e38192",
   "metadata": {},
   "outputs": [],
   "source": [
    "spatial_dataframe.info()"
   ]
  },
  {
   "cell_type": "code",
   "execution_count": null,
   "id": "9116a7ed",
   "metadata": {},
   "outputs": [],
   "source": [
    "# Add spatial info to the crop data points by merging two dataframes\n",
    "\n",
    "dataframe = spatial_dataframe[['fnid', 'unit_type', 'full_name', 'geometry']].merge(\n",
    "    crop_dataframe, on='fnid', how='right'\n",
    ")\n",
    "dataframe.info()"
   ]
  },
  {
   "cell_type": "code",
   "execution_count": null,
   "id": "198f94e0",
   "metadata": {},
   "outputs": [],
   "source": [
    "# Filter dataframe to get data for a single year and administrative unit type\n",
    "\n",
    "period_date = '2019-09-30'\n",
    "unit_type = 'Admin 2'\n",
    "\n",
    "single_year_dataframe = dataframe[\n",
    "    (dataframe['period_date'] == period_date) & (dataframe['unit_type'] == unit_type) & (dataframe['status'] == 'Collected')\n",
    "].reset_index(drop=True)\n",
    "\n",
    "single_year_dataframe[['fnid', 'full_name', 'unit_type', 'period_date', 'value', 'indicator']]\n"
   ]
  },
  {
   "cell_type": "code",
   "execution_count": null,
   "id": "6e0570bb",
   "metadata": {},
   "outputs": [],
   "source": [
    "# Create a map for a single year and unit type\n",
    "\n",
    "build_plotly_map(single_year_dataframe, 'full_name')"
   ]
  },
  {
   "cell_type": "code",
   "execution_count": null,
   "id": "c40e08b3",
   "metadata": {},
   "outputs": [],
   "source": [
    "# Get data points with geometries and create a map from a single API call\n",
    "\n",
    "crop_spatial_url = \"https://fdw.fews.net/api/cropproductionfacts/?format=geojson&has_datapoints=true&cpcv2=R01592AA&indicator=crop:quantity&country_code=NE&period_date=2019-09-30&geographic_unit_type=admin2\"\n",
    "crop_spatial_dataframe = gpd.read_file(crop_spatial_url).dropna(subset=['value']).reset_index(drop=True)\n",
    "crop_spatial_dataframe[['fnid', 'geographic_unit_full_name', 'period_date', 'value', 'indicator']]\n"
   ]
  },
  {
   "cell_type": "code",
   "execution_count": null,
   "id": "277df80d",
   "metadata": {},
   "outputs": [],
   "source": [
    "crop_spatial_dataframe.info()"
   ]
  },
  {
   "cell_type": "code",
   "execution_count": null,
   "id": "5af0e46a",
   "metadata": {},
   "outputs": [],
   "source": [
    "build_plotly_map(crop_spatial_dataframe, 'geographic_unit_full_name')"
   ]
  },
  {
   "cell_type": "code",
   "execution_count": null,
   "id": "7c183319",
   "metadata": {},
   "outputs": [],
   "source": []
  }
 ],
 "metadata": {
  "kernelspec": {
   "display_name": "Python 3 (ipykernel)",
   "language": "python",
   "name": "python3"
  },
  "language_info": {
   "codemirror_mode": {
    "name": "ipython",
    "version": 3
   },
   "file_extension": ".py",
   "mimetype": "text/x-python",
   "name": "python",
   "nbconvert_exporter": "python",
   "pygments_lexer": "ipython3",
   "version": "3.8.17"
  }
 },
 "nbformat": 4,
 "nbformat_minor": 5
}
